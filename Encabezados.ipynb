{
 "cells": [
  {
   "cell_type": "raw",
   "metadata": {
    "slideshow": {
     "slide_type": "skip"
    }
   },
   "source": [
    "Encabezado de primer nivel\n",
    "==\n",
    "Encabezado de segundo nivel\n",
    "--\n",
    "### Encabezado de Tercer Nivel"
   ]
  },
  {
   "cell_type": "markdown",
   "metadata": {
    "slideshow": {
     "slide_type": "slide"
    }
   },
   "source": [
    "# Encabezado de primer nivel\n"
   ]
  },
  {
   "cell_type": "markdown",
   "metadata": {
    "slideshow": {
     "slide_type": "slide"
    }
   },
   "source": [
    "Encabezado de primer nivel \n",
    "=="
   ]
  },
  {
   "cell_type": "markdown",
   "metadata": {
    "slideshow": {
     "slide_type": "slide"
    }
   },
   "source": [
    "Encabezado de Segundo Nivel \n",
    "--"
   ]
  },
  {
   "cell_type": "markdown",
   "metadata": {
    "slideshow": {
     "slide_type": "subslide"
    }
   },
   "source": [
    "## Encabezado de Segundo Nivel \n"
   ]
  },
  {
   "cell_type": "markdown",
   "metadata": {
    "slideshow": {
     "slide_type": "fragment"
    }
   },
   "source": [
    "### Encabezado de Tercer Nivel"
   ]
  },
  {
   "cell_type": "markdown",
   "metadata": {},
   "source": [
    ">The Python Community Great software is supported by great people. Our user base is enthusiastic, dedicated to encouraging use of the language, and committed to being diverse and friendly."
   ]
  },
  {
   "cell_type": "code",
   "execution_count": 10,
   "metadata": {},
   "outputs": [
    {
     "name": "stderr",
     "output_type": "stream",
     "text": [
      "\"The\" no se reconoce como un comando interno o externo,\n",
      "programa o archivo por lotes ejecutable.\n"
     ]
    }
   ],
   "source": [
    "<blockquote><div> The Python Community Great software is supported by great people. Our user base is enthusiastic, dedicated to encouraging use of the language, and committed to being diverse and friendly.</blockquote>"
   ]
  },
  {
   "cell_type": "markdown",
   "metadata": {},
   "source": [
    "***prueba***"
   ]
  },
  {
   "cell_type": "markdown",
   "metadata": {},
   "source": [
    "~~***ptro***~~"
   ]
  },
  {
   "cell_type": "markdown",
   "metadata": {},
   "source": [
    "1. * **Módulos**\n",
    "\n",
    "\n",
    "\n",
    "   + ***Módulo 1***\n",
    " \n",
    " \n",
    "     - Módulo 1.1\n",
    "     Hola mundo\n",
    "     - Módulo 1.2\n",
    "     Texto The Python Community Great software is supported by great people. Our user base is enthusiastic, dedicated to encouraging use of the language, and committed to being diverse and friendly. The Python Community Great software is supported by great people. Our user base is enthusiastic, dedicated to encouraging use of the language, and committed to being diverse and friendly.\n",
    "     \n",
    "  Este el vinculo de Acceso a [Pthon](http://www.python.org/doc)\n",
    "    \n",
    "   \n",
    "+ ***Módulo 2***\n",
    " \n",
    " \n",
    "     - Módulo 2.1\n",
    "     - Módulo 2.2\n",
    "   \n",
    "23. * **Ingresos y salidas**\n",
    "\n",
    "    + Ingresos\n",
    "   >The Python Community Great software is supported by great people. Our user base is enthusiastic, dedicated to encouraging use of the language, and committed to being diverse and friendly.\n",
    "    + Salidas\n",
    "3. * **Productos**\n",
    "   + Hogar\n",
    "   + Oficina\n",
    "   + Otros\n",
    "  "
   ]
  },
  {
   "cell_type": "markdown",
   "metadata": {},
   "source": []
  },
  {
   "cell_type": "markdown",
   "metadata": {},
   "source": [
    "* 1. Módulo\n",
    "* 5. Ingresos y Salidas\n",
    "* 3. Productos"
   ]
  },
  {
   "cell_type": "code",
   "execution_count": null,
   "metadata": {},
   "outputs": [],
   "source": []
  }
 ],
 "metadata": {
  "celltoolbar": "Slideshow",
  "kernelspec": {
   "display_name": "Python 3",
   "language": "python",
   "name": "python3"
  },
  "language_info": {
   "codemirror_mode": {
    "name": "ipython",
    "version": 3
   },
   "file_extension": ".py",
   "mimetype": "text/x-python",
   "name": "python",
   "nbconvert_exporter": "python",
   "pygments_lexer": "ipython3",
   "version": "3.6.5"
  }
 },
 "nbformat": 4,
 "nbformat_minor": 2
}
